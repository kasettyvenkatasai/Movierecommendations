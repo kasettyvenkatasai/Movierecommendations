{
 "cells": [
  {
   "cell_type": "code",
   "execution_count": 1,
   "id": "2c225279",
   "metadata": {},
   "outputs": [],
   "source": [
    "import pandas as pd\n",
    "from sklearn.feature_extraction.text import TfidfVectorizer\n",
    "from sklearn.linear_model import LogisticRegression\n",
    "from sklearn.multioutput import MultiOutputClassifier\n",
    "import joblib"
   ]
  },
  {
   "cell_type": "code",
   "execution_count": 2,
   "id": "3d993784",
   "metadata": {},
   "outputs": [
    {
     "name": "stdout",
     "output_type": "stream",
     "text": [
      "        ID                           Movie Name  Rating  Runtime  \\\n",
      "0        1             The Shawshank Redemption     9.3  142 min   \n",
      "1        2                        The Godfather     9.2  175 min   \n",
      "2        3  Ramayana: The Legend of Prince Rama     9.2  135 min   \n",
      "3        4                      The Chaos Class     9.2   87 min   \n",
      "4        5                                Daman     9.1  121 min   \n",
      "...    ...                                  ...     ...      ...   \n",
      "9994  9995                            Yogi Bear     4.6   80 min   \n",
      "9995  9996                                Troll     4.6   82 min   \n",
      "9996  9997                Paranormal Activity 4     4.6   88 min   \n",
      "9997  9998                          Dark Crimes     4.6   92 min   \n",
      "9998  9999                          The Pyramid     4.6   89 min   \n",
      "\n",
      "                                     Genre  Metascore  \\\n",
      "0                                ['Drama']       82.0   \n",
      "1                       ['Crime', 'Drama']      100.0   \n",
      "2     ['Animation', 'Action', 'Adventure']        NaN   \n",
      "3                      ['Comedy', 'Drama']        NaN   \n",
      "4                   ['Adventure', 'Drama']        NaN   \n",
      "...                                    ...        ...   \n",
      "9994  ['Animation', 'Adventure', 'Comedy']       35.0   \n",
      "9995       ['Comedy', 'Fantasy', 'Horror']       30.0   \n",
      "9996                 ['Horror', 'Mystery']       40.0   \n",
      "9997         ['Crime', 'Drama', 'Mystery']       24.0   \n",
      "9998     ['Horror', 'Mystery', 'Thriller']       24.0   \n",
      "\n",
      "                                                   Plot  \\\n",
      "0     Over the course of several years, two convicts...   \n",
      "1     Don Vito Corleone, head of a mafia family, dec...   \n",
      "2     An anime adaptation of the Hindu epic the Rama...   \n",
      "3     Lazy, uneducated students share a very close b...   \n",
      "4     The film is set in 2015. Sid, is a young docto...   \n",
      "...                                                 ...   \n",
      "9994  A documentary filmmaker travels to Jellystone ...   \n",
      "9995  A wicked troll king in search of a mystical ri...   \n",
      "9996  It has been five years since the disappearance...   \n",
      "9997  A murder investigation of a slain businessman ...   \n",
      "9998  An archaeological team attempts to unlock the ...   \n",
      "\n",
      "                                              Directors  \\\n",
      "0     ['Frank Darabont', 'Tim Robbins', 'Morgan Free...   \n",
      "1     ['Francis Ford Coppola', 'Marlon Brando', 'Al ...   \n",
      "2     ['Ram Mohan', 'Yûgô Sakô', 'Koichi Saski', 'Ar...   \n",
      "3     ['Ertem Egilmez', 'Kemal Sunal', 'Münir Özkul'...   \n",
      "4     ['Lenka Debiprasad', 'Vishal Mourya', 'Karan K...   \n",
      "...                                                 ...   \n",
      "9994  ['Eric Brevig', 'Dan Aykroyd', 'Justin Timberl...   \n",
      "9995  ['John Carl Buechler', 'Michael Moriarty', 'Sh...   \n",
      "9996  ['Henry Joost', 'Ariel Schulman', 'Stephen Dun...   \n",
      "9997  ['Alexandros Avranas', 'Jim Carrey', 'Marton C...   \n",
      "9998  ['Grégory Levasseur', 'Ashley Hinshaw', 'James...   \n",
      "\n",
      "                                                  Stars    Votes      Gross  \\\n",
      "0     ['Tim Robbins', 'Morgan Freeman', 'Bob Gunton'...  2752419   28341469   \n",
      "1     ['Marlon Brando', 'Al Pacino', 'James Caan', '...  1914751  134966411   \n",
      "2     ['Yûgô Sakô', 'Koichi Saski', 'Arun Govil', 'N...    10108      10108   \n",
      "3     ['Kemal Sunal', 'Münir Özkul', 'Halit Akçatepe...    41785      41785   \n",
      "4     ['Vishal Mourya', 'Karan Kandhapan', 'Babushan...    13303      13303   \n",
      "...                                                 ...      ...        ...   \n",
      "9994  ['Dan Aykroyd', 'Justin Timberlake', 'Anna Far...    22762  100246011   \n",
      "9995  ['Michael Moriarty', 'Shelley Hack', 'Noah Hat...    10948    5450815   \n",
      "9996  ['Ariel Schulman', 'Stephen Dunham', 'Katie Fe...    68430   53921300   \n",
      "9997  ['Jim Carrey', 'Marton Csokas', 'Charlotte Gai...    19098      19098   \n",
      "9998  ['Ashley Hinshaw', 'James Buckley', \"Denis O'H...    25483    2756333   \n",
      "\n",
      "                                        Link  \n",
      "0      https://www.imdb.com/title/tt0111161/  \n",
      "1      https://www.imdb.com/title/tt0068646/  \n",
      "2      https://www.imdb.com/title/tt0259534/  \n",
      "3      https://www.imdb.com/title/tt0252487/  \n",
      "4     https://www.imdb.com/title/tt17592606/  \n",
      "...                                      ...  \n",
      "9994   https://www.imdb.com/title/tt1302067/  \n",
      "9995   https://www.imdb.com/title/tt0092115/  \n",
      "9996   https://www.imdb.com/title/tt2109184/  \n",
      "9997   https://www.imdb.com/title/tt1901024/  \n",
      "9998   https://www.imdb.com/title/tt2799166/  \n",
      "\n",
      "[9999 rows x 12 columns]\n"
     ]
    }
   ],
   "source": [
    "import os\n",
    "import pandas as pd\n",
    "\n",
    "csv_path = os.path.join(\"..\", \"data\", \"movies_prepared.csv\")\n",
    "if os.path.exists(csv_path):\n",
    "    df = pd.read_csv(csv_path)\n",
    "    print(df)\n",
    "else:\n",
    "    print(f\"File not found: {csv_path}\")"
   ]
  },
  {
   "cell_type": "code",
   "execution_count": 5,
   "id": "37451203",
   "metadata": {},
   "outputs": [
    {
     "name": "stdout",
     "output_type": "stream",
     "text": [
      "✅ Model trained and saved.\n"
     ]
    }
   ],
   "source": [
    "X_text = df[\"Movie Name\"] + \" \" + df[\"Plot\"]\n",
    "\n",
    "# Load multi-label binarizer\n",
    "mlb_path = os.path.join(\"..\", \"data\", \"genre_mlb.pkl\")\n",
    "mlb = joblib.load(mlb_path)\n",
    "\n",
    "# Target\n",
    "y = mlb.transform(df[\"Genre\"].apply(eval))  # eval because saved as string list\n",
    "\n",
    "# TF-IDF\n",
    "vectorizer = TfidfVectorizer(max_features=5000, stop_words=\"english\")\n",
    "X = vectorizer.fit_transform(X_text)\n",
    "\n",
    "# Train model\n",
    "clf = MultiOutputClassifier(LogisticRegression(max_iter=1000))\n",
    "clf.fit(X, y)\n",
    "\n",
    "# Ensure 'models' directory exists\n",
    "os.makedirs(\"models\", exist_ok=True)\n",
    "\n",
    "# Save model + vectorizer\n",
    "joblib.dump(clf, \"models/genre_mood_model.pkl\")\n",
    "joblib.dump(vectorizer, \"models/tfidf_vectorizer.pkl\")\n",
    "\n",
    "print(\"✅ Model trained and saved.\")"
   ]
  },
  {
   "cell_type": "code",
   "execution_count": 6,
   "id": "e1ab4be4",
   "metadata": {},
   "outputs": [
    {
     "name": "stdout",
     "output_type": "stream",
     "text": [
      "Predicted genres: [('Adventure',)]\n"
     ]
    }
   ],
   "source": [
    "# Example: Predict genres for a new movie description\n",
    "test_movie_name = \"A Space Adventure\"\n",
    "test_plot = \"A group of astronauts embark on a journey to explore a mysterious planet beyond our solar system.\"\n",
    "\n",
    "# Combine name and plot as done during training\n",
    "test_text = test_movie_name + \" \" + test_plot\n",
    "\n",
    "# Transform using the saved vectorizer\n",
    "X_test = vectorizer.transform([test_text])\n",
    "\n",
    "# Predict genres\n",
    "y_pred = clf.predict(X_test)\n",
    "\n",
    "# Get genre labels\n",
    "predicted_genres = mlb.inverse_transform(y_pred)\n",
    "\n",
    "print(\"Predicted genres:\", predicted_genres)"
   ]
  }
 ],
 "metadata": {
  "kernelspec": {
   "display_name": ".venv",
   "language": "python",
   "name": "python3"
  },
  "language_info": {
   "codemirror_mode": {
    "name": "ipython",
    "version": 3
   },
   "file_extension": ".py",
   "mimetype": "text/x-python",
   "name": "python",
   "nbconvert_exporter": "python",
   "pygments_lexer": "ipython3",
   "version": "3.13.5"
  }
 },
 "nbformat": 4,
 "nbformat_minor": 5
}
