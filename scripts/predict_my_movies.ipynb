{
 "cells": [
  {
   "cell_type": "code",
   "execution_count": 1,
   "id": "71ae88d2",
   "metadata": {},
   "outputs": [],
   "source": [
    "import pandas as pd\n",
    "import joblib"
   ]
  },
  {
   "cell_type": "code",
   "execution_count": 2,
   "id": "a5c12d42",
   "metadata": {},
   "outputs": [],
   "source": [
    "import os\n",
    "\n",
    "clf = joblib.load(\"models/genre_mood_model.pkl\")\n",
    "vectorizer = joblib.load(\"models/tfidf_vectorizer.pkl\")\n",
    "try:\n",
    "    mlb_path = os.path.join(\"..\", \"data\", \"genre_mlb.pkl\")\n",
    "    mlb = joblib.load(mlb_path)\n",
    "except FileNotFoundError:\n",
    "    print(f\"Warning: '{mlb_path}' not found. 'mlb' is not loaded.\")\n",
    "    mlb = None"
   ]
  },
  {
   "cell_type": "code",
   "execution_count": 5,
   "id": "4e35fe8c",
   "metadata": {},
   "outputs": [
    {
     "name": "stdout",
     "output_type": "stream",
     "text": [
      "                                         title        Predicted Genres  \\\n",
      "0                            War of the Worlds         (Action, Drama)   \n",
      "1                                     Superman      (Adventure, Drama)   \n",
      "2    Mission: Impossible - The Final Reckoning     (Action, Adventure)   \n",
      "3                              Striking Rescue      (Action, Thriller)   \n",
      "4                       Jurassic World Rebirth     (Action, Adventure)   \n",
      "..                                         ...                     ...   \n",
      "591                Maze Runner: The Death Cure               (Action,)   \n",
      "592                          Kill Bill: Vol. 1  (Action, Crime, Drama)   \n",
      "593                       Boyka: Undisputed IV                      ()   \n",
      "594                  The Princess and the Frog               (Comedy,)   \n",
      "595              My Hero Academia: You're Next                (Drama,)   \n",
      "\n",
      "                         Mapped Moods  \n",
      "0             [Thoughtful, Energetic]  \n",
      "1               [Excited, Thoughtful]  \n",
      "2                [Excited, Energetic]  \n",
      "3                  [Energetic, Tense]  \n",
      "4                [Excited, Energetic]  \n",
      "..                                ...  \n",
      "591                       [Energetic]  \n",
      "592  [Neutral, Thoughtful, Energetic]  \n",
      "593                                []  \n",
      "594                           [Happy]  \n",
      "595                      [Thoughtful]  \n",
      "\n",
      "[596 rows x 3 columns]\n"
     ]
    }
   ],
   "source": [
    "genre_to_mood = {\n",
    "    \"Comedy\": \"Happy\",\n",
    "    \"Romance\": \"Romantic\",\n",
    "    \"Drama\": \"Thoughtful\",\n",
    "    \"Horror\": \"Scared\",\n",
    "    \"Adventure\": \"Excited\",\n",
    "    \"Action\": \"Energetic\",\n",
    "    \"Thriller\": \"Tense\",\n",
    "    \"Sci-Fi\": \"Curious\"\n",
    "}\n",
    "\n",
    "# Load your movies (from DB or another CSV)\n",
    "my_movies = pd.read_csv(\"../data/test.movies.csv\")  # Load from data folder\n",
    "my_movies[\"overview\"] = my_movies[\"overview\"].fillna(\"\")\n",
    "X_my = vectorizer.transform(my_movies[\"title\"] + \" \" + my_movies[\"overview\"])\n",
    "\n",
    "# Predict genres\n",
    "y_pred = clf.predict(X_my)\n",
    "pred_genres = mlb.inverse_transform(y_pred)\n",
    "\n",
    "# Map to moods\n",
    "my_movies[\"Predicted Genres\"] = pred_genres\n",
    "my_movies[\"Mapped Moods\"] = my_movies[\"Predicted Genres\"].apply(\n",
    "    lambda g_list: list({genre_to_mood.get(g, \"Neutral\") for g in g_list})\n",
    ")\n",
    "\n",
    "print(my_movies[[\"title\", \"Predicted Genres\", \"Mapped Moods\"]])"
   ]
  }
 ],
 "metadata": {
  "kernelspec": {
   "display_name": ".venv",
   "language": "python",
   "name": "python3"
  },
  "language_info": {
   "codemirror_mode": {
    "name": "ipython",
    "version": 3
   },
   "file_extension": ".py",
   "mimetype": "text/x-python",
   "name": "python",
   "nbconvert_exporter": "python",
   "pygments_lexer": "ipython3",
   "version": "3.13.5"
  }
 },
 "nbformat": 4,
 "nbformat_minor": 5
}
